{
 "cells": [
  {
   "cell_type": "code",
   "execution_count": 56,
   "metadata": {},
   "outputs": [
    {
     "name": "stdout",
     "output_type": "stream",
     "text": [
      "The autoreload extension is already loaded. To reload it, use:\n",
      "  %reload_ext autoreload\n"
     ]
    },
    {
     "name": "stderr",
     "output_type": "stream",
     "text": [
      "/home/kuro/miniconda3/envs/PAND/lib/python3.11/site-packages/deap/creator.py:138: RuntimeWarning: A class named 'FitnessMax' has already been created and it will be overwritten. Consider deleting previous creation of that class or rename it.\n",
      "  warnings.warn(\"A class named '{0}' has already been created and it \"\n",
      "/home/kuro/miniconda3/envs/PAND/lib/python3.11/site-packages/deap/creator.py:138: RuntimeWarning: A class named 'Individual' has already been created and it will be overwritten. Consider deleting previous creation of that class or rename it.\n",
      "  warnings.warn(\"A class named '{0}' has already been created and it \"\n"
     ]
    }
   ],
   "source": [
    "from deap import tools, base, algorithms, creator\n",
    "import diversity_algorithms\n",
    "import jax\n",
    "from brax.v1 import envs\n",
    "from diversity_algorithms.controllers.fixed_structure_nn_flax import SimpleNeuralControllerFlax\n",
    "import jax.numpy as jnp\n",
    "from functools import partial\n",
    "from diversity_algorithms.environments.brax_env import EvaluationFunctor\n",
    "from diversity_algorithms.algorithms.novelty_search import set_creator\n",
    "from diversity_algorithms.environments.behavior_descriptors import ant_behavior_descriptor\n",
    "creator.create(\"FitnessMax\", base.Fitness, weights=(1.0,)*1)\n",
    "import numpy as np\n",
    "creator.create(\"Individual\", np.ndarray, fitness=creator.FitnessMax)\n",
    "set_creator(creator)\n",
    "\n",
    "#!/usr/bin python -w\n",
    "\n",
    "from scipy.spatial import KDTree\n",
    "import numpy as np\n",
    "\n",
    "import pickle\n",
    "\n",
    "from deap import tools, base, algorithms\n",
    "\n",
    "from diversity_algorithms.algorithms.utils import *\n",
    "from diversity_algorithms.analysis.population_analysis import *\n",
    "from diversity_algorithms.analysis.data_utils import *\n",
    "\n",
    "import alphashape\n",
    "from shapely.geometry import Point, Polygon, LineString\n",
    "\n",
    "import jax\n",
    "from jax import numpy as jnp\n",
    "from diversity_algorithms.algorithms.jax_utils import *\n",
    "from diversity_algorithms.algorithms.quality_diversity import *\n",
    "\n",
    "%load_ext autoreload\n",
    "%autoreload 2\n"
   ]
  },
  {
   "cell_type": "code",
   "execution_count": 57,
   "metadata": {},
   "outputs": [],
   "source": [
    "env = envs.create(\"ant\")\n",
    "random_key = jax.random.PRNGKey(0)"
   ]
  },
  {
   "cell_type": "code",
   "execution_count": 58,
   "metadata": {},
   "outputs": [
    {
     "name": "stdout",
     "output_type": "stream",
     "text": [
      "Environment set to ant\n"
     ]
    }
   ],
   "source": [
    "controller = SimpleNeuralControllerFlax(env.observation_size, env.action_size, n_hidden_layers=2, n_neurons_per_hidden=64)\n",
    "eval_functor = EvaluationFunctor(\"ant\", controller, bd_function=ant_behavior_descriptor)"
   ]
  },
  {
   "cell_type": "code",
   "execution_count": 59,
   "metadata": {},
   "outputs": [],
   "source": [
    "params = {\n",
    "        \"verbosity\": None,\n",
    "        \"pop_size\": 5000,\n",
    "        \"n_add\": -1,\n",
    "        \"initial_seed_size\": 100,\n",
    "        \"variant\": \"QD\",\n",
    "        \"archive_type\": \"grid\",\n",
    "        \"grid_n_bin\": -1,\n",
    "        \"unstructured_neighborhood_radius\": -1.0,\n",
    "        \"replace_strategy\": \"fitness\",\n",
    "        \"sample_strategy\": \"random\",\n",
    "        \"kdtree_update\": \"default\",\n",
    "        \"env_name\": \"ant\",\n",
    "        \"nb_gen\": 100,\n",
    "        \"dump_period_evolvability\": 0,\n",
    "        \"extra_evolvability_gens\": [],\n",
    "        \"dump_period_offspring\": 1,\n",
    "        \"dump_period_population\": 1,\n",
    "        \"dump_period_archive_full\": 100,\n",
    "        \"dump_period_archive_small\": 1,\n",
    "        \"cxpb\": 0.0,\n",
    "        \"mutpb\": 1.0,\n",
    "        \"indpb\": 0.1,\n",
    "        \"eta_m\": 15.0,\n",
    "        \"min\": -5.0,\n",
    "        \"max\": 5.0,\n",
    "        \"k_nov\": 15,\n",
    "        \"geno_type\": \"realarray\",\n",
    "        \"eval_budget\": -1,\n",
    "        \"seed\": 0,\n",
    "        \"episode_length\": 100,\n",
    "        \"ind_size\": controller.n_weights,\n",
    "        \"evolvability_nb_samples\": 5000,\n",
    "        \"min_bd\": [-600, -600],\n",
    "        \"max_bd\": [600, 600],\n",
    "        \"nb_bin\": 50,\n",
    "}"
   ]
  },
  {
   "cell_type": "code",
   "execution_count": 60,
   "metadata": {},
   "outputs": [],
   "source": [
    "toolbox = base.Toolbox()\n",
    "toolbox.register(\"population\", init_pop, params=params)\n",
    "toolbox.register(\"mutate\", mutate, eta=params[\"eta_m\"], min_val=params[\"min\"], max_val=params[\"max\"], indpb=params[\"indpb\"])\n",
    "toolbox.register(\"map_eval\", eval_functor)\n",
    "\n",
    "v=str(params[\"variant\"])\n",
    "variant=v.replace(\",\",\"\")\n",
    "if (variant == \"NS\"): \n",
    "    toolbox.register(\"select\", selBest, fit_attr='novelty')\n",
    "elif (variant == \"Fit\"):\n",
    "    toolbox.register(\"select\", selBest, fit_attr='fitness')\n",
    "else:\n",
    "    toolbox.register(\"select\", tools.selNSGA2)"
   ]
  },
  {
   "cell_type": "code",
   "execution_count": 61,
   "metadata": {},
   "outputs": [],
   "source": [
    "population, random_key = toolbox.population(random_key, params[\"pop_size\"])"
   ]
  },
  {
   "cell_type": "code",
   "execution_count": 62,
   "metadata": {},
   "outputs": [],
   "source": [
    "fit, bd, random_key = toolbox.map_eval(jnp.asarray(population), random_key)"
   ]
  },
  {
   "cell_type": "code",
   "execution_count": 63,
   "metadata": {},
   "outputs": [],
   "source": [
    "for ind, f, b in zip(population, fit, bd):\n",
    "\tind.fitness.values = f\n",
    "\tind.fit = f\n",
    "\tind.parent_bd=None\n",
    "\tind.bd=b\n",
    "\tind.id = generate_uuid()\n",
    "\tind.parent_id = None\n",
    "\tind.dist_parent = -1\n",
    "\tind.gen_created = 0\n",
    "\n",
    "for ind in population:\n",
    "\tind.am_parent=0"
   ]
  },
  {
   "cell_type": "code",
   "execution_count": 64,
   "metadata": {},
   "outputs": [
    {
     "name": "stdout",
     "output_type": "stream",
     "text": [
      "Archive grid bin number autoset to 50\n"
     ]
    }
   ],
   "source": [
    "if((params[\"archive_type\"] == \"unstructured\") or (params[\"archive_type\"] == \"archive\")):\n",
    "\t# If no ball size is given, take a diameter of average size of a dimension / nb_bin\n",
    "\tif(params[\"unstructured_neighborhood_radius\"] < 0):\n",
    "\t\t#Fetch behavior space dimensions\n",
    "\t\tgridinfo = registered_environments[params[\"env_name\"]][\"grid_features\"]\n",
    "\t\tavg_dim_sizes = np.mean(np.array(gridinfo[\"max_x\"]) - np.array(gridinfo[\"min_x\"]))\n",
    "\t\tparams[\"unstructured_neighborhood_radius\"] = avg_dim_sizes / (2*gridinfo[\"nb_bin\"])\n",
    "\t\tprint(\"Unstructured archive replace radius autoset to %f\" % params[\"unstructured_neighborhood_radius\"])\n",
    "\tarchive = UnstructuredArchive(population, r_ball_replace=params[\"unstructured_neighborhood_radius\"], replace_strategy=replace_strategies[params[\"replace_strategy\"]], k_nov_knn=params[\"k_nov\"], kd_update_scheme=params[\"kdtree_update\"])\n",
    "elif(params[\"archive_type\"] == \"grid\"):\n",
    "\t#Fetch behavior space dimensions\n",
    "\tgridinfo = registered_environments[params[\"env_name\"]][\"grid_features\"]\n",
    "\tdim_ranges = list(zip(gridinfo[\"min_x\"],gridinfo[\"max_x\"]))\n",
    "\tif(params[\"grid_n_bin\"] <= 0):\n",
    "\t\tparams[\"grid_n_bin\"] = gridinfo[\"nb_bin\"] # If no specific discretization is given, take the environment default\n",
    "\t\tprint(\"Archive grid bin number autoset to %d\" % params[\"grid_n_bin\"])\n",
    "\tarchive = StructuredGrid(population, bins_per_dim=params[\"grid_n_bin\"], dims_ranges=dim_ranges, replace_strategy=replace_strategies[params[\"replace_strategy\"]], compute_novelty=True, k_nov_knn=params[\"k_nov\"], kd_update_scheme=params[\"kdtree_update\"])\n",
    "else:\n",
    "\traise RuntimeError(\"Unknown archive type %s\" % params[\"archive_type\"])"
   ]
  },
  {
   "cell_type": "code",
   "execution_count": 65,
   "metadata": {},
   "outputs": [],
   "source": [
    "seed_population = archive.get_content_as_list()"
   ]
  },
  {
   "attachments": {},
   "cell_type": "markdown",
   "metadata": {},
   "source": [
    "Start of the loop"
   ]
  },
  {
   "cell_type": "code",
   "execution_count": 66,
   "metadata": {},
   "outputs": [],
   "source": [
    "gen = 0"
   ]
  },
  {
   "cell_type": "code",
   "execution_count": 67,
   "metadata": {},
   "outputs": [],
   "source": [
    "population = archive.sample_archive(params[\"pop_size\"], strategy=params[\"sample_strategy\"])\n",
    "parents = list(population)\n",
    "random.shuffle(parents)\n",
    "parents = parents[:params[\"n_add\"]]"
   ]
  },
  {
   "cell_type": "code",
   "execution_count": 68,
   "metadata": {},
   "outputs": [],
   "source": [
    "# Mutate the geneotypes\n",
    "random_key, subkey = jax.random.split(random_key)\n",
    "keys = jax.random.split(subkey, len(parents))\n",
    "mutate_gen = jax.vmap(toolbox.mutate)(keys, jnp.asarray(parents))\n",
    "\t\n",
    "# Create the offsprings\n",
    "offspring = [creator.Individual([x]) for x in np.asarray(mutate_gen)]\n",
    "for i in range(len(offspring)):\n",
    "\toffspring[i] =  offspring[i][0]\n",
    "\toffspring[i].fitness = creator.FitnessMax()\n",
    "\toffspring[i].bd = parents[i].bd\n",
    "\toffspring[i].id = parents[i].id\n"
   ]
  },
  {
   "cell_type": "code",
   "execution_count": 72,
   "metadata": {},
   "outputs": [],
   "source": [
    "fit, bd, random_key = toolbox.map_eval(jnp.array(population), random_key)"
   ]
  },
  {
   "cell_type": "code",
   "execution_count": 73,
   "metadata": {},
   "outputs": [],
   "source": [
    "for ind, f, b in zip(offspring, fit, bd):\n",
    "\tind.fitness.values = f\n",
    "\tind.fit = f\n",
    "\tind.parent_bd = ind.bd\n",
    "\tind.bd = b\n",
    "\tind.parent_id = ind.id\n",
    "\tind.id = generate_uuid()\n",
    "\tind.am_parent = 0\n",
    "\tind.dist_parent = get_bd_dist_to_parent(ind)\n",
    "\tind.gen_created = gen"
   ]
  },
  {
   "cell_type": "code",
   "execution_count": 74,
   "metadata": {},
   "outputs": [],
   "source": [
    "if(len(offspring)) < params[\"n_add\"]:\n",
    "\tprint(\"WARNING: Not enough parents sampled to get %d offspring; will complete with %d random individuals\" % (params[\"n_add\"], params[\"n_add\"]-len(offspring)))\n",
    "\textra_random_indivs, random_key = toolbox.population(random_key, params[\"n_add\"] - len(offspring))\n",
    "\textrat_fit, extra_bd, random_key = toolbox.map_eval(jnp.array(extra_random_indivs), random_key)\n",
    " \n",
    "\tfor ind, f, b in zip(extra_random_indivs, extrat_fit, extra_bd):\n",
    "\t\tind.fitness.values = f\n",
    "\t\tind.fit = f\n",
    "\t\tind.parent_bd = None\n",
    "\t\tind.bd = b\n",
    "\t\tind.id = generate_uuid()\n",
    "\t\tind.parent_id = None\n",
    "\t\tind.am_parent = 0\n",
    "\t\tind.dist_parent = -1\n",
    "\t\tind.gen_created = gen\n",
    "\toffspring += extra_random_indivs\n",
    " \n",
    "for ind in parents:\n",
    "\tind.am_parent=1\n",
    "for ind in offspring:\n",
    "\tind.am_parent=0"
   ]
  },
  {
   "cell_type": "code",
   "execution_count": 76,
   "metadata": {},
   "outputs": [],
   "source": [
    "n_added = 0\n",
    "for ind in offspring:\n",
    "\tif(archive.try_add(ind)):\n",
    "\t\tn_added += 1\n",
    "  \n",
    "# Rebuild novelty for whole archive\n",
    "archive.update_novelty()"
   ]
  },
  {
   "cell_type": "code",
   "execution_count": null,
   "metadata": {},
   "outputs": [],
   "source": [
    "for gen in range(5):\n",
    "    population = archive.sample_archive(params[\"pop_size\"], strategy=params[\"sample_strategy\"])\n",
    "    parents = list(population)\n",
    "    random.shuffle(parents)\n",
    "    parents = parents[:params[\"n_add\"]]\n",
    "    \n",
    "    # Mutate the geneotypes\n",
    "    random_key, subkey = jax.random.split(random_key)\n",
    "    keys = jax.random.split(subkey, len(parents))\n",
    "    mutate_gen = jax.vmap(toolbox.mutate)(keys, jnp.asarray(parents))\n",
    "        \n",
    "    # Create the offsprings\n",
    "    offspring = [creator.Individual([x]) for x in np.asarray(mutate_gen)]\n",
    "    for i in range(len(offspring)):\n",
    "        offspring[i] =  offspring[i][0]\n",
    "        offspring[i].fitness = creator.FitnessMax()\n",
    "        offspring[i].bd = parents[i].bd\n",
    "        offspring[i].id = parents[i].id\n",
    "        \n",
    "    fit, bd, random_key = toolbox.map_eval(jnp.array(population), random_key)\n",
    "    \n",
    "    for ind, f, b in zip(offspring, fit, bd):\n",
    "        ind.fitness.values = f\n",
    "        ind.fit = f\n",
    "        ind.parent_bd = ind.bd\n",
    "        ind.bd = b\n",
    "        ind.parent_id = ind.id\n",
    "        ind.id = generate_uuid()\n",
    "        ind.am_parent = 0\n",
    "        ind.dist_parent = get_bd_dist_to_parent(ind)\n",
    "        ind.gen_created = gen\n",
    "\n",
    "    if(len(offspring)) < params[\"n_add\"]:\n",
    "        print(\"WARNING: Not enough parents sampled to get %d offspring; will complete with %d random individuals\" % (params[\"n_add\"], params[\"n_add\"]-len(offspring)))\n",
    "        extra_random_indivs, random_key = toolbox.population(random_key, params[\"n_add\"] - len(offspring))\n",
    "        extrat_fit, extra_bd, random_key = toolbox.map_eval(jnp.array(extra_random_indivs), random_key)\n",
    "    \n",
    "        for ind, f, b in zip(extra_random_indivs, extrat_fit, extra_bd):\n",
    "            ind.fitness.values = f\n",
    "            ind.fit = f\n",
    "            ind.parent_bd = None\n",
    "            ind.bd = b\n",
    "            ind.id = generate_uuid()\n",
    "            ind.parent_id = None\n",
    "            ind.am_parent = 0\n",
    "            ind.dist_parent = -1\n",
    "            ind.gen_created = gen\n",
    "        offspring += extra_random_indivs\n",
    "    \n",
    "    for ind in parents:\n",
    "        ind.am_parent=1\n",
    "    for ind in offspring:\n",
    "        ind.am_parent=0\n",
    "        \n",
    "    n_added = 0\n",
    "    for ind in offspring:\n",
    "        if(archive.try_add(ind)):\n",
    "            n_added += 1\n",
    "    \n",
    "    # Rebuild novelty for whole archive\n",
    "    archive.update_novelty()"
   ]
  }
 ],
 "metadata": {
  "kernelspec": {
   "display_name": "PAND",
   "language": "python",
   "name": "python3"
  },
  "language_info": {
   "codemirror_mode": {
    "name": "ipython",
    "version": 3
   },
   "file_extension": ".py",
   "mimetype": "text/x-python",
   "name": "python",
   "nbconvert_exporter": "python",
   "pygments_lexer": "ipython3",
   "version": "3.11.3"
  },
  "orig_nbformat": 4
 },
 "nbformat": 4,
 "nbformat_minor": 2
}
