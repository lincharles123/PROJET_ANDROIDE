{
 "cells": [
  {
   "cell_type": "code",
   "execution_count": 2,
   "metadata": {},
   "outputs": [],
   "source": [
    "from deap import tools, base, algorithms, creator\n",
    "import diversity_algorithms\n",
    "import jax\n",
    "from brax.v1 import envs\n",
    "from diversity_algorithms.controllers.fixed_structure_nn_flax import SimpleNeuralControllerFlax\n",
    "import jax.numpy as jnp\n",
    "from functools import partial\n",
    "from diversity_algorithms.environments.brax_env import EvaluationFunctor\n",
    "from diversity_algorithms.algorithms.novelty_search import set_creator\n",
    "from diversity_algorithms.environments.behavior_descriptors import ant_behavior_descriptor\n",
    "creator.create(\"FitnessMax\", base.Fitness, weights=(1.0,)*1)\n",
    "import numpy as np\n",
    "creator.create(\"Individual\", np.ndarray, fitness=creator.FitnessMax)\n",
    "set_creator(creator)\n",
    "\n",
    "#!/usr/bin python -w\n",
    "\n",
    "from scipy.spatial import KDTree\n",
    "import numpy as np\n",
    "\n",
    "import pickle\n",
    "\n",
    "from deap import tools, base, algorithms\n",
    "\n",
    "from diversity_algorithms.algorithms.utils import *\n",
    "from diversity_algorithms.analysis.population_analysis import *\n",
    "from diversity_algorithms.analysis.data_utils import *\n",
    "\n",
    "import alphashape\n",
    "from shapely.geometry import Point, Polygon, LineString\n",
    "\n",
    "import jax\n",
    "from jax import numpy as jnp\n",
    "from diversity_algorithms.algorithms.jax_utils import *\n",
    "from diversity_algorithms.algorithms.quality_diversity import *\n",
    "\n",
    "%load_ext autoreload\n",
    "%autoreload 2\n"
   ]
  },
  {
   "cell_type": "code",
   "execution_count": 3,
   "metadata": {},
   "outputs": [],
   "source": [
    "env = envs.create(\"ant\")\n",
    "random_key = jax.random.PRNGKey(0)"
   ]
  },
  {
   "cell_type": "code",
   "execution_count": 4,
   "metadata": {},
   "outputs": [
    {
     "name": "stdout",
     "output_type": "stream",
     "text": [
      "Environment set to ant\n"
     ]
    }
   ],
   "source": [
    "controller = SimpleNeuralControllerFlax(env.observation_size, env.action_size, n_hidden_layers=2, n_neurons_per_hidden=64)\n",
    "eval_functor = EvaluationFunctor(\"ant\", controller, bd_function=ant_behavior_descriptor)"
   ]
  },
  {
   "cell_type": "code",
   "execution_count": 5,
   "metadata": {},
   "outputs": [],
   "source": [
    "params = {\n",
    "        \"verbosity\": None,\n",
    "        \"pop_size\": 8000,\n",
    "        \"n_add\": -1,\n",
    "        \"initial_seed_size\": 100,\n",
    "        \"variant\": \"QD\",\n",
    "        \"archive_type\": \"grid\",\n",
    "        \"grid_n_bin\": -1,\n",
    "        \"unstructured_neighborhood_radius\": -1.0,\n",
    "        \"replace_strategy\": \"fitness\",\n",
    "        \"sample_strategy\": \"random\",\n",
    "        \"kdtree_update\": \"default\",\n",
    "        \"env_name\": \"ant\",\n",
    "        \"nb_gen\": 100,\n",
    "        \"dump_period_evolvability\": 0,\n",
    "        \"extra_evolvability_gens\": [],\n",
    "        \"dump_period_offspring\": 1,\n",
    "        \"dump_period_population\": 1,\n",
    "        \"dump_period_archive_full\": 100,\n",
    "        \"dump_period_archive_small\": 1,\n",
    "        \"cxpb\": 0.0,\n",
    "        \"mutpb\": 1.0,\n",
    "        \"indpb\": 0.1,\n",
    "        \"eta_m\": 15.0,\n",
    "        \"min\": -5.0,\n",
    "        \"max\": 5.0,\n",
    "        \"k_nov\": 15,\n",
    "        \"geno_type\": \"realarray\",\n",
    "        \"eval_budget\": -1,\n",
    "        \"seed\": 0,\n",
    "        \"episode_length\": 100,\n",
    "        \"ind_size\": controller.n_weights,\n",
    "        \"evolvability_nb_samples\": 5000,\n",
    "        \"min_bd\": [-600, -600],\n",
    "        \"max_bd\": [600, 600],\n",
    "        \"nb_bin\": 50,\n",
    "}"
   ]
  },
  {
   "cell_type": "code",
   "execution_count": 6,
   "metadata": {},
   "outputs": [],
   "source": [
    "toolbox = base.Toolbox()\n",
    "toolbox.register(\"attr_float\", lambda : random.uniform(params[\"min\"], params[\"max\"]))\n",
    "toolbox.register(\"individual\", tools.initRepeat, creator.Individual, toolbox.attr_float, n=params[\"ind_size\"])\n",
    "toolbox.register(\"population\", tools.initRepeat, list, toolbox.individual)\n",
    "#toolbox.register(\"mate\", tools.cxBlend, alpha=params[\"alpha\"])\n",
    "# Polynomial mutation with eta=15, and p=0.1 as for Leni\n",
    "toolbox.register(\"mutate\", mutate, eta=params[\"eta_m\"], min_val=params[\"min\"], max_val=params[\"max\"], indpb=params[\"indpb\"])\n",
    "\n",
    "v=str(params[\"variant\"])\n",
    "variant=v.replace(\",\",\"\")\n",
    "if (variant == \"NS\"): \n",
    "\ttoolbox.register(\"select\", selBest, fit_attr='novelty')\n",
    "elif (variant == \"Fit\"):\n",
    "\ttoolbox.register(\"select\", selBest, fit_attr='fitness')\n",
    "else:\n",
    "\ttoolbox.register(\"select\", tools.selNSGA2)\n",
    "\t\n",
    "toolbox.register(\"map_eval\", eval_functor)"
   ]
  },
  {
   "cell_type": "code",
   "execution_count": 7,
   "metadata": {},
   "outputs": [],
   "source": [
    "def varOr(random_key, population, toolbox, lambda_, cxpb, mutpb):\n",
    "\trandom_key, mut_key = jax.random.split(random_key)\n",
    " \n",
    "\tmut_ind = jnp.arange(len(population))\n",
    "\tmut_ind = jax.random.choice(mut_key, mut_ind, (int(mutpb*lambda_),))\t# indices of the individuals to mutate\n",
    "\n",
    "\t# Mutate the geneotypes\n",
    "\trandom_key, subkey = jax.random.split(random_key)\n",
    "\tkeys = jax.random.split(subkey, mut_ind.shape[0])\n",
    "\tmutate_gen = jax.vmap(toolbox.mutate)(keys, jnp.array(population)[mut_ind])\n",
    "\t\n",
    "\toffspring = []\n",
    "\tfor i in range(len(population)):\n",
    "\t\toff = toolbox.clone(population[i])\n",
    "\t\toff[:] = mutate_gen[i]\n",
    "\t\toffspring.append(off)\n",
    "\treturn offspring, random_key"
   ]
  },
  {
   "cell_type": "code",
   "execution_count": 8,
   "metadata": {},
   "outputs": [],
   "source": [
    "population = toolbox.population(5000)"
   ]
  },
  {
   "cell_type": "code",
   "execution_count": 9,
   "metadata": {},
   "outputs": [],
   "source": [
    "fit, bd, random_key = toolbox.map_eval(jnp.array(population), random_key)"
   ]
  },
  {
   "cell_type": "code",
   "execution_count": 12,
   "metadata": {},
   "outputs": [],
   "source": [
    "for ind, f, b in zip(population, fit, bd):\n",
    "\tind.fitness.values = f\n",
    "\tind.fit = f\n",
    "\tind.parent_bd=None\n",
    "\tind.bd=b\n",
    "\tind.id = generate_uuid()\n",
    "\tind.parent_id = None\n",
    "\tind.dist_parent = -1\n",
    "\tind.gen_created = 0\n",
    "\n",
    "for ind in population:\n",
    "\tind.am_parent=0"
   ]
  },
  {
   "cell_type": "code",
   "execution_count": 13,
   "metadata": {},
   "outputs": [
    {
     "name": "stdout",
     "output_type": "stream",
     "text": [
      "Archive grid bin number autoset to 50\n"
     ]
    }
   ],
   "source": [
    "if((params[\"archive_type\"] == \"unstructured\") or (params[\"archive_type\"] == \"archive\")):\n",
    "\t# If no ball size is given, take a diameter of average size of a dimension / nb_bin\n",
    "\tif(params[\"unstructured_neighborhood_radius\"] < 0):\n",
    "\t\t#Fetch behavior space dimensions\n",
    "\t\tgridinfo = registered_environments[params[\"env_name\"]][\"grid_features\"]\n",
    "\t\tavg_dim_sizes = np.mean(np.array(gridinfo[\"max_x\"]) - np.array(gridinfo[\"min_x\"]))\n",
    "\t\tparams[\"unstructured_neighborhood_radius\"] = avg_dim_sizes / (2*gridinfo[\"nb_bin\"])\n",
    "\t\tprint(\"Unstructured archive replace radius autoset to %f\" % params[\"unstructured_neighborhood_radius\"])\n",
    "\tarchive = UnstructuredArchive(population, r_ball_replace=params[\"unstructured_neighborhood_radius\"], replace_strategy=replace_strategies[params[\"replace_strategy\"]], k_nov_knn=params[\"k_nov\"], kd_update_scheme=params[\"kdtree_update\"])\n",
    "elif(params[\"archive_type\"] == \"grid\"):\n",
    "\t#Fetch behavior space dimensions\n",
    "\tgridinfo = registered_environments[params[\"env_name\"]][\"grid_features\"]\n",
    "\tdim_ranges = list(zip(gridinfo[\"min_x\"],gridinfo[\"max_x\"]))\n",
    "\tif(params[\"grid_n_bin\"] <= 0):\n",
    "\t\tparams[\"grid_n_bin\"] = gridinfo[\"nb_bin\"] # If no specific discretization is given, take the environment default\n",
    "\t\tprint(\"Archive grid bin number autoset to %d\" % params[\"grid_n_bin\"])\n",
    "\tarchive = StructuredGrid(population, bins_per_dim=params[\"grid_n_bin\"], dims_ranges=dim_ranges, replace_strategy=replace_strategies[params[\"replace_strategy\"]], compute_novelty=True, k_nov_knn=params[\"k_nov\"], kd_update_scheme=params[\"kdtree_update\"])\n",
    "else:\n",
    "\traise RuntimeError(\"Unknown archive type %s\" % params[\"archive_type\"])"
   ]
  },
  {
   "cell_type": "code",
   "execution_count": 14,
   "metadata": {},
   "outputs": [],
   "source": [
    "seed_population = archive.get_content_as_list()"
   ]
  },
  {
   "cell_type": "code",
   "execution_count": 26,
   "metadata": {},
   "outputs": [],
   "source": [
    "population = archive.sample_archive(params[\"pop_size\"], strategy=params[\"sample_strategy\"])\n",
    "parents = list(population)\n",
    "random.shuffle(parents)\n",
    "parents = parents[:params[\"n_add\"]]\n",
    "offspring, random_key = varOr(random_key, parents, toolbox, len(parents), params[\"cxpb\"], params[\"mutpb\"])"
   ]
  },
  {
   "cell_type": "code",
   "execution_count": 30,
   "metadata": {},
   "outputs": [],
   "source": [
    "fit, bd, random_key = toolbox.map_eval(jnp.array(population), random_key)"
   ]
  },
  {
   "cell_type": "code",
   "execution_count": null,
   "metadata": {},
   "outputs": [],
   "source": [
    "for ind, fit in zip(offspring, fitnesses):\n",
    "\tind.fitness.values = fit[0] \n",
    "\tind.fit = fit[0]\n",
    "\tind.parent_bd=ind.bd\n",
    "\tind.bd=listify(fit[1])\n",
    "\tind.parent_id = ind.id\n",
    "\tind.id = generate_uuid()\n",
    "\tind.am_parent=0\n",
    "\tind.dist_parent = get_bd_dist_to_parent(ind)\n",
    "\tind.gen_created = gen"
   ]
  }
 ],
 "metadata": {
  "kernelspec": {
   "display_name": "PAND",
   "language": "python",
   "name": "python3"
  },
  "language_info": {
   "codemirror_mode": {
    "name": "ipython",
    "version": 3
   },
   "file_extension": ".py",
   "mimetype": "text/x-python",
   "name": "python",
   "nbconvert_exporter": "python",
   "pygments_lexer": "ipython3",
   "version": "3.11.3"
  },
  "orig_nbformat": 4
 },
 "nbformat": 4,
 "nbformat_minor": 2
}
