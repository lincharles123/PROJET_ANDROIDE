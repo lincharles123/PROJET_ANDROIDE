{
 "cells": [
  {
   "cell_type": "code",
   "execution_count": 27,
   "metadata": {},
   "outputs": [
    {
     "name": "stdout",
     "output_type": "stream",
     "text": [
      "The autoreload extension is already loaded. To reload it, use:\n",
      "  %reload_ext autoreload\n"
     ]
    },
    {
     "name": "stderr",
     "output_type": "stream",
     "text": [
      "/home/kuro/miniconda3/envs/PAND/lib/python3.11/site-packages/deap/creator.py:138: RuntimeWarning: A class named 'FitnessMax' has already been created and it will be overwritten. Consider deleting previous creation of that class or rename it.\n",
      "  warnings.warn(\"A class named '{0}' has already been created and it \"\n",
      "/home/kuro/miniconda3/envs/PAND/lib/python3.11/site-packages/deap/creator.py:138: RuntimeWarning: A class named 'Individual' has already been created and it will be overwritten. Consider deleting previous creation of that class or rename it.\n",
      "  warnings.warn(\"A class named '{0}' has already been created and it \"\n"
     ]
    }
   ],
   "source": [
    "from deap import tools, base, algorithms, creator\n",
    "import diversity_algorithms\n",
    "import jax\n",
    "from brax.v1 import envs\n",
    "from diversity_algorithms.controllers.fixed_structure_nn_flax import SimpleNeuralControllerFlax\n",
    "import jax.numpy as jnp\n",
    "from functools import partial\n",
    "from diversity_algorithms.environments.brax_env import EvaluationFunctor\n",
    "from diversity_algorithms.algorithms.novelty_search import set_creator\n",
    "from diversity_algorithms.environments.behavior_descriptors import ant_behavior_descriptor\n",
    "creator.create(\"FitnessMax\", base.Fitness, weights=(1.0,)*1)\n",
    "import numpy as np\n",
    "creator.create(\"Individual\", np.ndarray, typecode=\"d\", fitness=creator.FitnessMax)\n",
    "set_creator(creator)\n",
    "\n",
    "\n",
    "from scipy.spatial import KDTree\n",
    "import numpy as np\n",
    "\n",
    "import pickle\n",
    "import time\n",
    "from diversity_algorithms.algorithms.utils import *\n",
    "from diversity_algorithms.analysis.population_analysis import *\n",
    "from diversity_algorithms.analysis.data_utils import *\n",
    "\n",
    "from diversity_algorithms.algorithms.novelty_management import *\n",
    "\n",
    "import alphashape\n",
    "from shapely.geometry import Point, Polygon, LineString\n",
    "from diversity_algorithms.algorithms.jax_utils import *\n",
    "\n",
    "%load_ext autoreload\n",
    "%autoreload 2\n"
   ]
  },
  {
   "cell_type": "code",
   "execution_count": 4,
   "metadata": {},
   "outputs": [],
   "source": [
    "env = envs.create(\"ant\")\n",
    "random_key = jax.random.PRNGKey(0)"
   ]
  },
  {
   "cell_type": "code",
   "execution_count": 5,
   "metadata": {},
   "outputs": [
    {
     "name": "stdout",
     "output_type": "stream",
     "text": [
      "Environment set to ant\n"
     ]
    }
   ],
   "source": [
    "controller = SimpleNeuralControllerFlax(env.observation_size, env.action_size, n_hidden_layers=2, n_neurons_per_hidden=64)\n",
    "eval_functor = EvaluationFunctor(\"ant\", controller, bd_function=ant_behavior_descriptor)"
   ]
  },
  {
   "cell_type": "code",
   "execution_count": 6,
   "metadata": {},
   "outputs": [],
   "source": [
    "def dist_to_shape(pp, s):\n",
    "\tp=Point(pp)\n",
    "\td=p.distance(s)\n",
    "\tif (d==0.0):\n",
    "\t\td=-p.distance(s.exterior)\n",
    "\treturn d\n",
    "\n",
    "def dist_to_shapes(pp, ls):\n",
    "\tif (not hasattr(ls, '__iter__')):\n",
    "\t\tls=[ls] \n",
    "\tp=Point(pp)\n",
    "\timin=-1\n",
    "\tdmin=sys.float_info.max\n",
    "\tfor i in range(len(ls)):\n",
    "\t\td=p.distance(ls[i])\n",
    "\t\tif (d<dmin):\n",
    "\t\t\timin=i\n",
    "\t\t\tdmin=d\n",
    "\tif (dmin==0.0):\n",
    "\t\td=-p.distance(ls[i].exterior)\n",
    "\telse:\n",
    "\t\td=dmin\n",
    "\treturn d"
   ]
  },
  {
   "cell_type": "code",
   "execution_count": 7,
   "metadata": {},
   "outputs": [],
   "source": [
    "params = {\"nb_gen\": 5,\n",
    "\t\t  \"pop_size\": 5000,\n",
    "\t\t\t\"geno_type\":\"realarray\", \n",
    "\t\t  \"variant\":\"NS\", \n",
    "\t\t  \"ind_size\":controller.n_weights, \n",
    "\t\t  \"eta_m\":15.0,\n",
    "\t\t  \"indpb\":0.1,\n",
    "\t\t  \"mutpb\":1,\n",
    "\t\t  \"cxpb\":0,\n",
    "\t\t  \"min\":-5,\n",
    "\t\t  \"max\":5,\n",
    "\t\t  \"k\":15,\n",
    "\t\t  \"add_strategy\":\"novel\",\n",
    "\t\t  \"lambda_nov\":30,\n",
    "\t\t  \"verbosity\":\"none\",\n",
    "\t\t  \"variant\":\"NS\",\n",
    "\t}"
   ]
  },
  {
   "cell_type": "code",
   "execution_count": 8,
   "metadata": {},
   "outputs": [],
   "source": [
    "toolbox = base.Toolbox()\n",
    "toolbox.register(\"population\", init_pop, params=params)\n",
    "toolbox.register(\"mutate\", mutate, eta=params[\"eta_m\"], min_val=params[\"min\"], max_val=params[\"max\"], indpb=params[\"indpb\"])\n",
    "toolbox.register(\"map_eval\", eval_functor)\n",
    "v=str(params[\"variant\"])\n",
    "variant=v.replace(\",\",\"\")\n",
    "if (variant == \"NS\"): \n",
    "\ttoolbox.register(\"select\", selBest, fit_attr='novelty')\n",
    "elif (variant == \"Fit\"):\n",
    "\ttoolbox.register(\"select\", selBest, fit_attr='fitness')\n",
    "elif (variant == \"Random\"):\n",
    "\ttoolbox.register(\"select\", random.sample)\n",
    "elif (variant == \"DistExplArea\"):\n",
    "\ttoolbox.register(\"select\", selBest, fit_attr='dist_to_explored_area')\n",
    "else:\n",
    "\tprint(\"Variant not among the authorized variants (NS, Fit, Random, DistExplArea), assuming multi-objective variant\")\n",
    "\ttoolbox.register(\"select\", tools.selNSGA2)"
   ]
  },
  {
   "cell_type": "code",
   "execution_count": 9,
   "metadata": {},
   "outputs": [],
   "source": [
    "population, random_key = toolbox.population(random_key, params[\"pop_size\"])"
   ]
  },
  {
   "cell_type": "code",
   "execution_count": 10,
   "metadata": {},
   "outputs": [],
   "source": [
    "fit, bd, random_key = toolbox.map_eval(jnp.asarray(population), random_key)"
   ]
  },
  {
   "cell_type": "code",
   "execution_count": 11,
   "metadata": {},
   "outputs": [],
   "source": [
    "for ind, f, b in zip(population, fit, bd):\n",
    "\tind.fit = f # fit is an attribute just used to store the fitness value\n",
    "\tind.parent_bd = None\n",
    "\tind.bd = b\n",
    "\tind.id = generate_uuid()\n",
    "\tind.parent_id = None\n",
    "\n",
    "for ind in population:\n",
    "\tind.am_parent=0"
   ]
  },
  {
   "cell_type": "code",
   "execution_count": 12,
   "metadata": {},
   "outputs": [],
   "source": [
    "archive=updateNovelty(population,population,None,params)\n",
    "alpha_shape = alphashape.alphashape(archive.all_bd, 5)\n",
    "isortednov=sorted(range(len(population)), key=lambda k: population[k].novelty, reverse=True)\n",
    "varian=params[\"variant\"].replace(\",\",\"\")"
   ]
  },
  {
   "cell_type": "code",
   "execution_count": 13,
   "metadata": {},
   "outputs": [],
   "source": [
    "if (\"+\" in variant):\n",
    "\temo=True\n",
    "else:\n",
    "\temo=False"
   ]
  },
  {
   "cell_type": "code",
   "execution_count": 14,
   "metadata": {},
   "outputs": [],
   "source": [
    "for i,ind in enumerate(population):\n",
    "\tind.dist_to_explored_area=dist_to_shapes(ind.bd,alpha_shape)\n",
    "\tind.rank_novelty=isortednov.index(i)\n",
    "\tind.dist_to_parent=0\n",
    "\tif (emo): \n",
    "\t\tif (varian == \"NS+Fit\"):\n",
    "\t\t\tind.fitness.values = (ind.novelty, ind.fit)\n",
    "\t\telif (varian == \"NS+BDDistP\"):\n",
    "\t\t\tind.fitness.values = (ind.novelty, 0)\n",
    "\t\telif (varian == \"NS+Fit+BDDistP\"):\n",
    "\t\t\tind.fitness.values = (ind.novelty, ind.fit, 0)\n",
    "\t\telse:\n",
    "\t\t\tprint(\"WARNING: unknown variant: \"+variant)\n",
    "\t\t\tind.fitness.values=ind.fit\n",
    "\telse:\n",
    "\t\tind.fitness.values=ind.fit\n",
    "\t# if it is not a multi-objective experiment, the select tool from DEAP \n",
    "\t# has been configured above to take the right attribute into account\n",
    "\t# and the fitness.values is thus ignored\n",
    "gen=0\t"
   ]
  },
  {
   "cell_type": "code",
   "execution_count": 15,
   "metadata": {},
   "outputs": [],
   "source": [
    "lambda_ = 10000"
   ]
  },
  {
   "cell_type": "code",
   "execution_count": 16,
   "metadata": {},
   "outputs": [],
   "source": [
    "offspring, random_key = varOr(random_key, population, toolbox, lambda_, params[\"cxpb\"], params[\"mutpb\"])"
   ]
  },
  {
   "cell_type": "code",
   "execution_count": 17,
   "metadata": {},
   "outputs": [],
   "source": [
    "fit, bd, random_key = toolbox.map_eval(jnp.asarray(offspring), random_key)"
   ]
  },
  {
   "cell_type": "code",
   "execution_count": 18,
   "metadata": {},
   "outputs": [],
   "source": [
    "for ind, f, b in zip(offspring, fit, bd):\n",
    "\tind.fit = f\n",
    "\tind.fitness.values = f\n",
    "\tind.parent_bd = ind.bd\n",
    "\tind.parent_id = ind.id\n",
    "\tind.id = generate_uuid()\n",
    "\tind.bd = b\n",
    "for ind in population:\n",
    "\tind.am_parent=1\n",
    "for ind in offspring:\n",
    "\tind.am_parent=0\n",
    "\t\n",
    "pq=population+offspring\n",
    "\n",
    "\n",
    "pop_for_novelty_estimation=pq"
   ]
  },
  {
   "cell_type": "code",
   "execution_count": 19,
   "metadata": {},
   "outputs": [],
   "source": [
    "archive = updateNovelty(pq,offspring,archive,params, pop_for_novelty_estimation)\n",
    "alpha_shape = alphashape.alphashape(archive.all_bd, 5)"
   ]
  },
  {
   "cell_type": "code",
   "execution_count": 20,
   "metadata": {},
   "outputs": [],
   "source": [
    "nov = [ind.novelty for ind in pq]\n",
    "isortednov = np.argsort(nov)[::-1]\n",
    "rank = np.empty_like(isortednov)\n",
    "rank[isortednov] = np.arange(len(isortednov))"
   ]
  },
  {
   "cell_type": "code",
   "execution_count": 21,
   "metadata": {},
   "outputs": [],
   "source": [
    "for i,ind in enumerate(pq):\n",
    "\tind.dist_to_explored_area=dist_to_shapes(ind.bd,alpha_shape)\n",
    "\tind.rank_novelty = rank[i]\n",
    "\t#print(\"Indiv #%d: novelty=%f rank=%d\"%(i, ind.novelty, ind.rank_novelty))\n",
    "\tif (ind.parent_bd is None):\n",
    "\t\tind.dist_to_parent=0\n",
    "\telse:\n",
    "\t\tind.dist_to_parent=np.linalg.norm(np.asarray(ind.bd)-np.asarray(ind.parent_bd))\n",
    "\tif (emo):\n",
    "\t\tif (varian == \"NS+Fit\"):\n",
    "\t\t\tind.fitness.values = (ind.novelty, ind.fit)\n",
    "\t\telif (varian == \"NS+BDDistP\"):\n",
    "\t\t\tif (ind.parent_bd is None):\n",
    "\t\t\t\tbddistp=0\n",
    "\t\t\telse:\n",
    "\t\t\t\tbddistp=np.linalg.norm(np.asarray(ind.bd) - np.asarray(ind.parent_bd))\n",
    "\t\t\tind.fitness.values = (ind.novelty, bddistp)\n",
    "\t\telif (varian == \"NS+Fit+BDDistP\"):\n",
    "\t\t\tif (ind.parent_bd is None):\n",
    "\t\t\t\tbddistp=0\n",
    "\t\t\telse:\n",
    "\t\t\t\tbddistp=np.linalg.norm(np.asarray(ind.bd) - np.asarray(ind.parent_bd))\n",
    "\t\t\tind.fitness.values = (ind.novelty, ind.fit, bddistp)\n",
    "\t\telse:\n",
    "\t\t\tprint(\"WARNING: unknown variant: \"+variant)\n",
    "\t\t\tind.fitness.values=ind.fit\n",
    "\telse:\n",
    "\t\tind.fitness.values=ind.fit"
   ]
  },
  {
   "cell_type": "code",
   "execution_count": 22,
   "metadata": {},
   "outputs": [],
   "source": [
    "if (\",\" in variant):\n",
    "\tpopulation[:] = toolbox.select(offspring, params[\"pop_size\"])\t\t\n",
    "else:\n",
    "\tpopulation[:] = toolbox.select(pq, params[\"pop_size\"])  "
   ]
  },
  {
   "cell_type": "code",
   "execution_count": 37,
   "metadata": {},
   "outputs": [],
   "source": [
    "offspring, random_key = varOr(random_key, population, toolbox, lambda_, params[\"cxpb\"], params[\"mutpb\"])"
   ]
  },
  {
   "cell_type": "code",
   "execution_count": 26,
   "metadata": {},
   "outputs": [
    {
     "name": "stdout",
     "output_type": "stream",
     "text": [
      "Generation 1\n",
      "varOr time:  0.9681236743927002\n",
      "map_eval time:  2.3271000385284424\n"
     ]
    },
    {
     "ename": "KeyboardInterrupt",
     "evalue": "",
     "output_type": "error",
     "traceback": [
      "\u001b[0;31m---------------------------------------------------------------------------\u001b[0m",
      "\u001b[0;31mKeyboardInterrupt\u001b[0m                         Traceback (most recent call last)",
      "Cell \u001b[0;32mIn[26], line 28\u001b[0m\n\u001b[1;32m     26\u001b[0m pop_for_novelty_estimation \u001b[39m=\u001b[39m pq\n\u001b[1;32m     27\u001b[0m t\u001b[39m=\u001b[39mtime\u001b[39m.\u001b[39mtime()\n\u001b[0;32m---> 28\u001b[0m archive \u001b[39m=\u001b[39m updateNovelty(pq, offspring, archive, params, pop_for_novelty_estimation)\n\u001b[1;32m     29\u001b[0m \u001b[39mprint\u001b[39m(\u001b[39m\"\u001b[39m\u001b[39mupdateNovelty time: \u001b[39m\u001b[39m\"\u001b[39m, time\u001b[39m.\u001b[39mtime() \u001b[39m-\u001b[39m t)\n\u001b[1;32m     30\u001b[0m alpha_shape \u001b[39m=\u001b[39m alphashape\u001b[39m.\u001b[39malphashape(archive\u001b[39m.\u001b[39mall_bd, \u001b[39m5\u001b[39m)\n",
      "File \u001b[0;32m~/cours/projet/PROJET_ANDROIDE/diversity_algorithms_dev-master/diversity_algorithms/algorithms/novelty_management.py:93\u001b[0m, in \u001b[0;36mupdateNovelty\u001b[0;34m(population, offspring, archive, params, population_saved)\u001b[0m\n\u001b[1;32m     91\u001b[0m nov \u001b[39m=\u001b[39m archive\u001b[39m.\u001b[39mget_nov(pop_bd, population\u001b[39m=\u001b[39mref_bd)    \u001b[39m# compute the novelty of the population with respect to the archive\u001b[39;00m\n\u001b[1;32m     92\u001b[0m \u001b[39mfor\u001b[39;00m ind, n \u001b[39min\u001b[39;00m \u001b[39mzip\u001b[39m(population, nov):\n\u001b[0;32m---> 93\u001b[0m     \u001b[39mif\u001b[39;00m (jnp\u001b[39m.\u001b[39;49misnan(n)):\n\u001b[1;32m     94\u001b[0m         ind\u001b[39m.\u001b[39mnovelty\u001b[39m=\u001b[39m\u001b[39m-\u001b[39m\u001b[39m1\u001b[39m\n\u001b[1;32m     95\u001b[0m     \u001b[39melse\u001b[39;00m:\n",
      "\u001b[0;31mKeyboardInterrupt\u001b[0m: "
     ]
    }
   ],
   "source": [
    "for gen in range(1, params[\"nb_gen\"] + 1):\n",
    "\tprint(\"Generation %d\" % gen)\n",
    "\tt = time.time()\n",
    "\toffspring, random_key = varOr(random_key, population, toolbox, lambda_, params[\"cxpb\"], params[\"mutpb\"])\n",
    "\tprint(\"varOr time: \", time.time() - t)\t\n",
    "\t# Evaluate the individuals with an invalid fitness\n",
    "\tt=time.time()\n",
    "\tfit, bd, random_key = toolbox.map_eval(jnp.asarray(offspring), random_key)\n",
    "\tprint(\"map_eval time: \", time.time() - t)\n",
    "\n",
    "\tfor ind, f, b in zip(offspring, fit, bd):\n",
    "\t\tind.fit = f\n",
    "\t\tind.fitness.values = f\n",
    "\t\tind.parent_bd = ind.bd\n",
    "\t\tind.parent_id = ind.id\n",
    "\t\tind.id = generate_uuid()\n",
    "\t\tind.bd = b\n",
    "\n",
    "\tfor ind in population:\n",
    "\t\tind.am_parent=1\n",
    "\n",
    "\tfor ind in offspring:\n",
    "\t\tind.am_parent=0\n",
    "\t\t\n",
    "\tpq = population+offspring\n",
    "\tpop_for_novelty_estimation = pq\n",
    "\tt=time.time()\n",
    "\tarchive = updateNovelty(pq, offspring, archive, params, pop_for_novelty_estimation)\n",
    "\tprint(\"updateNovelty time: \", time.time() - t)\n",
    "\talpha_shape = alphashape.alphashape(archive.all_bd, 5)\n",
    "\t\n",
    "\t# Compute the novelty rank\n",
    "\tnov = [ind.novelty for ind in pq]\n",
    "\tisortednov = np.argsort(nov)[::-1]\n",
    "\trank = np.empty_like(isortednov)\n",
    "\trank[isortednov] = np.arange(len(isortednov))\n",
    "\t\n",
    "\tfor i,ind in enumerate(pq):\n",
    "\t\tind.dist_to_explored_area=dist_to_shapes(ind.bd,alpha_shape)\n",
    "\t\tind.rank_novelty = rank[i]\n",
    "\t\t#print(\"Indiv #%d: novelty=%f rank=%d\"%(i, ind.novelty, ind.rank_novelty))\n",
    "\t\tif (ind.parent_bd is None):\n",
    "\t\t\tind.dist_to_parent=0\n",
    "\t\telse:\n",
    "\t\t\tind.dist_to_parent=np.linalg.norm(np.asarray(ind.bd)-np.asarray(ind.parent_bd))\n",
    "\t\tif (emo):\n",
    "\t\t\tif (varian == \"NS+Fit\"):\n",
    "\t\t\t\tind.fitness.values = (ind.novelty, ind.fit)\n",
    "\t\t\telif (varian == \"NS+BDDistP\"):\n",
    "\t\t\t\tif (ind.parent_bd is None):\n",
    "\t\t\t\t\tbddistp=0\n",
    "\t\t\t\telse:\n",
    "\t\t\t\t\tbddistp=np.linalg.norm(np.asarray(ind.bd) - np.asarray(ind.parent_bd))\n",
    "\t\t\t\tind.fitness.values = (ind.novelty, bddistp)\n",
    "\t\t\telif (varian == \"NS+Fit+BDDistP\"):\n",
    "\t\t\t\tif (ind.parent_bd is None):\n",
    "\t\t\t\t\tbddistp=0\n",
    "\t\t\t\telse:\n",
    "\t\t\t\t\tbddistp=np.linalg.norm(np.asarray(ind.bd) - np.asarray(ind.parent_bd))\n",
    "\t\t\t\tind.fitness.values = (ind.novelty, ind.fit, bddistp)\n",
    "\t\t\telse:\n",
    "\t\t\t\tprint(\"WARNING: unknown variant: \"+variant)\n",
    "\t\t\t\tind.fitness.values=ind.fit\n",
    "\t\telse:\n",
    "\t\t\tind.fitness.values=ind.fit\n",
    "\tif (verbosity(params)):\n",
    "\t\tprint(\"Gen %d\"%(gen))\n",
    "\telse:\n",
    "\t\tif(gen%100==0):\n",
    "\t\t\tprint(\" %d \"%(gen), end='', flush=True)\n",
    "\t\telif(gen%10==0):\n",
    "\t\t\tprint(\"+\", end='', flush=True)\n",
    "\t\telse:\n",
    "\t\t\tprint(\".\", end='', flush=True)\n",
    "\t\n",
    "\t# Select the next generation population\n",
    "\tif (\",\" in variant):\n",
    "\t\tpopulation[:] = toolbox.select(offspring, params[\"pop_size\"])\t\t\n",
    "\telse:\n",
    "\t\tpopulation[:] = toolbox.select(pq, params[\"pop_size\"])\t\t\n"
   ]
  }
 ],
 "metadata": {
  "kernelspec": {
   "display_name": "PAND",
   "language": "python",
   "name": "python3"
  },
  "language_info": {
   "codemirror_mode": {
    "name": "ipython",
    "version": 3
   },
   "file_extension": ".py",
   "mimetype": "text/x-python",
   "name": "python",
   "nbconvert_exporter": "python",
   "pygments_lexer": "ipython3",
   "version": "3.11.3"
  },
  "orig_nbformat": 4
 },
 "nbformat": 4,
 "nbformat_minor": 2
}
