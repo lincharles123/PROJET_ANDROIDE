{
 "cells": [
  {
   "cell_type": "code",
   "execution_count": 2,
   "metadata": {},
   "outputs": [],
   "source": [
    "import brax\n",
    "import jax\n",
    "from brax import envs\n",
    "from diversity_algorithms.controllers.fixed_structure_nn_flax import SimpleNeuralControllerFlax"
   ]
  },
  {
   "cell_type": "code",
   "execution_count": 3,
   "metadata": {},
   "outputs": [
    {
     "name": "stderr",
     "output_type": "stream",
     "text": [
      "No GPU/TPU found, falling back to CPU. (Set TF_CPP_MIN_LOG_LEVEL=0 and rerun for more info.)\n"
     ]
    }
   ],
   "source": [
    "env = envs.create(\"ant\")\n",
    "env = envs.wrapper.wrap_for_training(env)\n",
    "key = jax.random.PRNGKey(0)\n",
    "pop_size = 100\n",
    "controller = SimpleNeuralControllerFlax(env.observation_size, env.action_size, n_hidden_layers=2, n_neurons_per_hidden=10)"
   ]
  },
  {
   "cell_type": "code",
   "execution_count": 4,
   "metadata": {},
   "outputs": [],
   "source": [
    "init_keys = jax.random.split(key, 100)\n",
    "init_state = env.reset(init_keys)"
   ]
  },
  {
   "cell_type": "code",
   "execution_count": 5,
   "metadata": {},
   "outputs": [],
   "source": [
    "shape = controller.get_parameters().shape"
   ]
  },
  {
   "cell_type": "code",
   "execution_count": 6,
   "metadata": {},
   "outputs": [],
   "source": [
    "array_params = jax.vmap(lambda key: jax.random.uniform(key, shape))(init_keys)\n",
    "params = jax.vmap(controller.array_to_fdict)(array_params)"
   ]
  },
  {
   "cell_type": "code",
   "execution_count": 7,
   "metadata": {},
   "outputs": [],
   "source": [
    "def eval(init_states, params):\n",
    "\tdef eval_step(carry, _):\n",
    "\t\tstates = carry\n",
    "\t\tactions = jax.vmap(jax.jit(controller.predict))(params, states.obs)\n",
    "\t\tnext_states = env.step(states, actions)\n",
    "\t\treturn (next_states), (next_states.reward, next_states.metrics)\n",
    "\treturn jax.lax.scan(eval_step, init_states, None, length=1000)"
   ]
  },
  {
   "cell_type": "code",
   "execution_count": 8,
   "metadata": {},
   "outputs": [],
   "source": [
    "final_states, (rewards, metrics) = eval(init_state, params)"
   ]
  },
  {
   "cell_type": "code",
   "execution_count": null,
   "metadata": {},
   "outputs": [],
   "source": []
  }
 ],
 "metadata": {
  "kernelspec": {
   "display_name": "project",
   "language": "python",
   "name": "python3"
  },
  "language_info": {
   "codemirror_mode": {
    "name": "ipython",
    "version": 3
   },
   "file_extension": ".py",
   "mimetype": "text/x-python",
   "name": "python",
   "nbconvert_exporter": "python",
   "pygments_lexer": "ipython3",
   "version": "3.11.3"
  },
  "orig_nbformat": 4
 },
 "nbformat": 4,
 "nbformat_minor": 2
}
