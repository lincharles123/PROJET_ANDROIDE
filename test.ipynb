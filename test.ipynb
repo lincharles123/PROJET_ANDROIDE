{
 "cells": [
  {
   "cell_type": "code",
   "execution_count": 1,
   "metadata": {},
   "outputs": [],
   "source": [
    "import jax\n",
    "from brax.v1 import envs\n",
    "from diversity_algorithms.controllers.fixed_structure_nn_flax import SimpleNeuralControllerFlax\n",
    "import jax.numpy as jnp\n",
    "from functools import partial\n",
    "\n",
    "\n",
    "%load_ext autoreload\n",
    "%autoreload 2"
   ]
  },
  {
   "cell_type": "code",
   "execution_count": 198,
   "metadata": {},
   "outputs": [],
   "source": [
    "env = envs.create(\"ant\")\n",
    "key = jax.random.PRNGKey(0)"
   ]
  },
  {
   "cell_type": "code",
   "execution_count": 211,
   "metadata": {},
   "outputs": [
    {
     "data": {
      "text/plain": [
       "Array([0, 0], dtype=uint32)"
      ]
     },
     "execution_count": 211,
     "metadata": {},
     "output_type": "execute_result"
    }
   ],
   "source": [
    "key"
   ]
  },
  {
   "cell_type": "code",
   "execution_count": 199,
   "metadata": {},
   "outputs": [],
   "source": [
    "import jax\n",
    "import jax.numpy as jnp\n",
    "random_key = jax.random.PRNGKey(0)\n",
    "batch_size = 8192"
   ]
  },
  {
   "cell_type": "code",
   "execution_count": null,
   "metadata": {},
   "outputs": [],
   "source": [
    "from diversity_algorithms.environments.brax_env import EvaluationFunctor\n",
    "controller = SimpleNeuralControllerFlax(env.observation_size, env.action_size, n_hidden_layers=2, n_neurons_per_hidden=64)\n",
    "EvaluationFunctor(\"ant\", controller)"
   ]
  },
  {
   "cell_type": "code",
   "execution_count": 215,
   "metadata": {},
   "outputs": [],
   "source": [
    "# Init population of controllers\n",
    "controller = SimpleNeuralControllerFlax(env.observation_size, env.action_size, n_hidden_layers=2, n_neurons_per_hidden=64)\n",
    "random_key, subkey = jax.random.split(random_key)\n",
    "keys = jax.random.split(subkey, num=batch_size)\n",
    "fake_batch = jnp.zeros(shape=(batch_size, env.observation_size))\n",
    "init_variables = jax.vmap(controller.model.init)(keys, fake_batch).unfreeze()\n"
   ]
  },
  {
   "cell_type": "code",
   "execution_count": 216,
   "metadata": {},
   "outputs": [],
   "source": [
    "step_fn = jax.vmap(jax.jit(env.step))\n",
    "inference_fn = jax.vmap(jax.jit(controller.predict))\n",
    "reset_fn = jax.vmap(jax.jit(env.reset))"
   ]
  },
  {
   "cell_type": "code",
   "execution_count": 217,
   "metadata": {},
   "outputs": [],
   "source": [
    "@jax.jit\n",
    "def eval(params, key):\n",
    "\tdef eval_step(carry, _):\n",
    "\t\tstates = carry\n",
    "\t\tactions = inference_fn(params, states.obs)\n",
    "\t\tnext_states = step_fn(states, actions)\n",
    "\t\treturn (next_states), (next_states.reward, next_states.metrics)\n",
    "\n",
    "\tkeys = jax.random.split(key, num=batch_size)\n",
    "\tinit_states = reset_fn(keys)\n",
    "\treturn jax.lax.scan(eval_step, init_states, None, length=100)"
   ]
  },
  {
   "cell_type": "code",
   "execution_count": 219,
   "metadata": {},
   "outputs": [],
   "source": [
    "final_states, (rewards, metrics) = eval(init_variables, key)"
   ]
  },
  {
   "cell_type": "code",
   "execution_count": 220,
   "metadata": {},
   "outputs": [],
   "source": [
    "for i in range(20):\n",
    "    final_states, (rewards, metrics) = eval(init_variables, key)"
   ]
  },
  {
   "cell_type": "code",
   "execution_count": 207,
   "metadata": {},
   "outputs": [
    {
     "data": {
      "text/plain": [
       "(8192, 87, 64)"
      ]
     },
     "execution_count": 207,
     "metadata": {},
     "output_type": "execute_result"
    }
   ],
   "source": [
    "init_variables[\"params\"][\"Dense_0\"][\"kernel\"].shape"
   ]
  },
  {
   "cell_type": "code",
   "execution_count": null,
   "metadata": {},
   "outputs": [],
   "source": [
    "pop_size = 100\n",
    "\n",
    "# create inititial states\n",
    "init_keys = jax.random.split(key, pop_size)\n",
    "init_states = reset_fn(init_keys)\n",
    "\n",
    "# get the shape of network parameters\n",
    "shape = controller.get_parameters().shape\n",
    "\n",
    "# create random parameters and convert them to a frozen dict\n",
    "array_params = jax.vmap(lambda key: jax.random.uniform(key, shape))(init_keys)\n",
    "params = jax.vmap(controller.array_to_fdict)(array_params)"
   ]
  },
  {
   "cell_type": "code",
   "execution_count": null,
   "metadata": {},
   "outputs": [],
   "source": [
    "final_states, (rewards, metrics) = eval(init_states, params)"
   ]
  }
 ],
 "metadata": {
  "kernelspec": {
   "display_name": "project",
   "language": "python",
   "name": "python3"
  },
  "language_info": {
   "codemirror_mode": {
    "name": "ipython",
    "version": 3
   },
   "file_extension": ".py",
   "mimetype": "text/x-python",
   "name": "python",
   "nbconvert_exporter": "python",
   "pygments_lexer": "ipython3",
   "version": "3.11.3"
  },
  "orig_nbformat": 4
 },
 "nbformat": 4,
 "nbformat_minor": 2
}
