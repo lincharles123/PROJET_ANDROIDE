{
 "cells": [
  {
   "cell_type": "code",
   "execution_count": null,
   "metadata": {},
   "outputs": [],
   "source": [
    "from deap import tools, base, algorithms, creator\n",
    "import diversity_algorithms\n",
    "import jax\n",
    "from brax.v1 import envs\n",
    "from diversity_algorithms.controllers.fixed_structure_nn_flax import SimpleNeuralControllerFlax\n",
    "import jax.numpy as jnp\n",
    "from functools import partial\n",
    "from diversity_algorithms.environments.brax_env import EvaluationFunctor\n",
    "from diversity_algorithms.algorithms.novelty_search import set_creator\n",
    "from diversity_algorithms.environments.behavior_descriptors import feet_contact_descriptor\n",
    "creator.create(\"FitnessMax\", base.Fitness, weights=(1.0,)*1)\n",
    "import numpy as np\n",
    "creator.create(\"Individual\", np.ndarray, fitness=creator.FitnessMax)\n",
    "set_creator(creator)\n",
    "\n",
    "#!/usr/bin python -w\n",
    "\n",
    "from scipy.spatial import KDTree\n",
    "import numpy as np\n",
    "\n",
    "import pickle\n",
    "\n",
    "from deap import tools, base, algorithms\n",
    "\n",
    "from diversity_algorithms.algorithms.utils import *\n",
    "from diversity_algorithms.analysis.population_analysis import *\n",
    "from diversity_algorithms.analysis.data_utils import *\n",
    "\n",
    "import alphashape\n",
    "from shapely.geometry import Point, Polygon, LineString\n",
    "\n",
    "import jax\n",
    "from jax import numpy as jnp\n",
    "from diversity_algorithms.algorithms.jax_utils import *\n",
    "from diversity_algorithms.algorithms.quality_diversity import *\n",
    "from diversity_algorithms.environments.brax_env import create\n",
    "\n",
    "from IPython.display import HTML\n",
    "from brax.v1.io import html\n",
    "\n",
    "%load_ext autoreload\n",
    "%autoreload 2\n"
   ]
  },
  {
   "cell_type": "code",
   "execution_count": null,
   "metadata": {},
   "outputs": [],
   "source": [
    "env = create(\"ant-uni\", episode_length=300)\n",
    "random_key = jax.random.PRNGKey(0)"
   ]
  },
  {
   "cell_type": "code",
   "execution_count": null,
   "metadata": {},
   "outputs": [],
   "source": [
    "controller = SimpleNeuralControllerFlax(env.observation_size, env.action_size, n_hidden_layers=2, n_neurons_per_hidden=64)\n",
    "eval_functor = EvaluationFunctor(\"ant\", output=\"total_reward\", controller=controller, bd_function=feet_contact_descriptor)"
   ]
  },
  {
   "cell_type": "code",
   "execution_count": null,
   "metadata": {},
   "outputs": [],
   "source": [
    "params = {\n",
    "        \"verbosity\": None,\n",
    "        \"pop_size\": 8192,\n",
    "        \"n_add\": -1,\n",
    "        \"initial_seed_size\": 8192,\n",
    "        \"variant\": \"QD\",\n",
    "        \"archive_type\": \"grid\",\n",
    "        \"grid_n_bin\": -1,\n",
    "        \"unstructured_neighborhood_radius\": -1.0,\n",
    "        \"replace_strategy\": \"fitness\",\n",
    "        \"sample_strategy\": \"random\",\n",
    "        \"kdtree_update\": \"default\",\n",
    "        \"env_name\": \"ant-uni\",\n",
    "        \"nb_gen\": 20,\n",
    "        \"dump_period_evolvability\": 0,\n",
    "        \"extra_evolvability_gens\": [],\n",
    "        \"dump_period_offspring\": 1,\n",
    "        \"dump_period_population\": 1,\n",
    "        \"dump_period_archive_full\": 100,\n",
    "        \"dump_period_archive_small\": 1,\n",
    "        \"cxpb\": 0,\n",
    "        \"mutpb\": 1,\n",
    "        \"indpb\": 0.1,\n",
    "        \"eta_m\": 15.0,\n",
    "        \"min\": -1.0,\n",
    "        \"max\": 1.0,\n",
    "        \"k_nov\": 15,\n",
    "        \"geno_type\": \"realarray\",\n",
    "        \"eval_budget\": -1,\n",
    "        \"seed\": 0,\n",
    "        \"episode_length\": 300,\n",
    "        \"ind_size\": controller.n_weights,\n",
    "        \"evolvability_nb_samples\": 5000,\n",
    "}"
   ]
  },
  {
   "cell_type": "code",
   "execution_count": null,
   "metadata": {},
   "outputs": [],
   "source": [
    "toolbox = base.Toolbox()\n",
    "toolbox.register(\"population\", init_pop_controller, controller=eval_functor.get_controller())\n",
    "toolbox.register(\"mutate\", mutate, eta=params[\"eta_m\"], min_val=params[\"min\"], max_val=params[\"max\"], indpb=params[\"indpb\"])\n",
    "toolbox.register(\"mate\", cxBLend, alpha=0.5)\n",
    "toolbox.register(\"map_eval\", eval_functor)\n",
    "\n",
    "v=str(params[\"variant\"])\n",
    "variant=v.replace(\",\",\"\")\n",
    "if (variant == \"NS\"): \n",
    "    toolbox.register(\"select\", tools.selBest, fit_attr='novelty')\n",
    "elif (variant == \"Fit\"):\n",
    "    toolbox.register(\"select\", tools.selBest, fit_attr='fitness')\n",
    "else:\n",
    "    toolbox.register(\"select\", tools.selNSGA2)"
   ]
  },
  {
   "cell_type": "code",
   "execution_count": null,
   "metadata": {},
   "outputs": [],
   "source": [
    "population, random_key = toolbox.population(random_key, params[\"pop_size\"])"
   ]
  },
  {
   "cell_type": "code",
   "execution_count": null,
   "metadata": {},
   "outputs": [],
   "source": [
    "fit, bd, random_key = toolbox.map_eval(jnp.asarray(population), random_key)"
   ]
  },
  {
   "cell_type": "code",
   "execution_count": null,
   "metadata": {},
   "outputs": [],
   "source": [
    "for ind, f, b in zip(population, fit, bd):\n",
    "\tind.fitness.values = f\n",
    "\tind.fit = f\n",
    "\tind.parent_bd=None\n",
    "\tind.bd=b\n",
    "\tind.id = generate_uuid()\n",
    "\tind.parent_id = None\n",
    "\tind.dist_parent = -1\n",
    "\tind.gen_created = 0\n",
    "\n",
    "for ind in population:\n",
    "\tind.am_parent=0"
   ]
  },
  {
   "cell_type": "code",
   "execution_count": null,
   "metadata": {},
   "outputs": [],
   "source": [
    "if((params[\"archive_type\"] == \"unstructured\") or (params[\"archive_type\"] == \"archive\")):\n",
    "\t# If no ball size is given, take a diameter of average size of a dimension / nb_bin\n",
    "\tif(params[\"unstructured_neighborhood_radius\"] < 0):\n",
    "\t\t#Fetch behavior space dimensions\n",
    "\t\tgridinfo = registered_environments[params[\"env_name\"]][\"grid_features\"]\n",
    "\t\tavg_dim_sizes = np.mean(np.array(gridinfo[\"max_x\"]) - np.array(gridinfo[\"min_x\"]))\n",
    "\t\tparams[\"unstructured_neighborhood_radius\"] = avg_dim_sizes / (2*gridinfo[\"nb_bin\"])\n",
    "\t\tprint(\"Unstructured archive replace radius autoset to %f\" % params[\"unstructured_neighborhood_radius\"])\n",
    "\tarchive = UnstructuredArchive(population, r_ball_replace=params[\"unstructured_neighborhood_radius\"], replace_strategy=replace_strategies[params[\"replace_strategy\"]], k_nov_knn=params[\"k_nov\"], kd_update_scheme=params[\"kdtree_update\"])\n",
    "elif(params[\"archive_type\"] == \"grid\"):\n",
    "\t#Fetch behavior space dimensions\n",
    "\tgridinfo = registered_environments[params[\"env_name\"]][\"grid_features\"]\n",
    "\tdim_ranges = list(zip(gridinfo[\"min_x\"],gridinfo[\"max_x\"]))\n",
    "\tif(params[\"grid_n_bin\"] <= 0):\n",
    "\t\tparams[\"grid_n_bin\"] = gridinfo[\"nb_bin\"] # If no specific discretization is given, take the environment default\n",
    "\t\tprint(\"Archive grid bin number autoset to %d\" % params[\"grid_n_bin\"])\n",
    "\tarchive = StructuredGrid(population, bins_per_dim=params[\"grid_n_bin\"], dims_ranges=dim_ranges, replace_strategy=replace_strategies[params[\"replace_strategy\"]], compute_novelty=True, k_nov_knn=params[\"k_nov\"], kd_update_scheme=params[\"kdtree_update\"])\n",
    "else:\n",
    "\traise RuntimeError(\"Unknown archive type %s\" % params[\"archive_type\"])"
   ]
  },
  {
   "cell_type": "code",
   "execution_count": null,
   "metadata": {},
   "outputs": [],
   "source": [
    "seed_population = archive.get_content_as_list()"
   ]
  },
  {
   "attachments": {},
   "cell_type": "markdown",
   "metadata": {},
   "source": [
    "Start of the loop"
   ]
  },
  {
   "cell_type": "code",
   "execution_count": null,
   "metadata": {},
   "outputs": [],
   "source": [
    "gen = 0"
   ]
  },
  {
   "cell_type": "code",
   "execution_count": null,
   "metadata": {},
   "outputs": [],
   "source": [
    "population = archive.sample_archive(params[\"pop_size\"], strategy=params[\"sample_strategy\"])\n",
    "parents = population"
   ]
  },
  {
   "cell_type": "code",
   "execution_count": null,
   "metadata": {},
   "outputs": [],
   "source": [
    "# Mutate the geneotypes\n",
    "random_key, subkey = jax.random.split(random_key)\n",
    "keys = jax.random.split(subkey, len(parents))\n",
    "mutate_gen = jax.vmap(toolbox.mutate)(keys, jnp.asarray(parents))\n",
    "\t\n",
    "# Create the offsprings\n",
    "offspring = [creator.Individual([x]) for x in np.asarray(mutate_gen)]\n",
    "for i in range(len(offspring)):\n",
    "\toffspring[i] =  offspring[i][0]\n",
    "\toffspring[i].fitness = creator.FitnessMax()\n",
    "\toffspring[i].bd = parents[i].bd\n",
    "\toffspring[i].id = parents[i].id\n"
   ]
  },
  {
   "cell_type": "code",
   "execution_count": null,
   "metadata": {},
   "outputs": [],
   "source": [
    "fit, bd, random_key = toolbox.map_eval(jnp.array(population), random_key)"
   ]
  },
  {
   "cell_type": "code",
   "execution_count": null,
   "metadata": {},
   "outputs": [],
   "source": [
    "for ind, f, b in zip(offspring, fit, bd):\n",
    "\tind.fitness.values = f\n",
    "\tind.fit = f\n",
    "\tind.parent_bd = ind.bd\n",
    "\tind.bd = b\n",
    "\tind.parent_id = ind.id\n",
    "\tind.id = generate_uuid()\n",
    "\tind.am_parent = 0\n",
    "\tind.dist_parent = get_bd_dist_to_parent(ind)\n",
    "\tind.gen_created = gen"
   ]
  },
  {
   "cell_type": "code",
   "execution_count": null,
   "metadata": {},
   "outputs": [],
   "source": [
    "if(len(offspring)) < params[\"n_add\"]:\n",
    "\tprint(\"WARNING: Not enough parents sampled to get %d offspring; will complete with %d random individuals\" % (params[\"n_add\"], params[\"n_add\"]-len(offspring)))\n",
    "\textra_random_indivs, random_key = toolbox.population(random_key, params[\"n_add\"] - len(offspring))\n",
    "\textrat_fit, extra_bd, random_key = toolbox.map_eval(jnp.array(extra_random_indivs), random_key)\n",
    " \n",
    "\tfor ind, f, b in zip(extra_random_indivs, extrat_fit, extra_bd):\n",
    "\t\tind.fitness.values = f\n",
    "\t\tind.fit = f\n",
    "\t\tind.parent_bd = None\n",
    "\t\tind.bd = b\n",
    "\t\tind.id = generate_uuid()\n",
    "\t\tind.parent_id = None\n",
    "\t\tind.am_parent = 0\n",
    "\t\tind.dist_parent = -1\n",
    "\t\tind.gen_created = gen\n",
    "\toffspring += extra_random_indivs\n",
    " \n",
    "for ind in parents:\n",
    "\tind.am_parent=1\n",
    "for ind in offspring:\n",
    "\tind.am_parent=0"
   ]
  },
  {
   "cell_type": "code",
   "execution_count": null,
   "metadata": {},
   "outputs": [],
   "source": [
    "n_added = 0\n",
    "for ind in offspring:\n",
    "\tif(archive.try_add(ind)):\n",
    "\t\tn_added += 1\n",
    "  \n",
    "# Rebuild novelty for whole archive\n",
    "archive.update_novelty()"
   ]
  },
  {
   "cell_type": "code",
   "execution_count": null,
   "metadata": {},
   "outputs": [],
   "source": [
    "import time"
   ]
  },
  {
   "cell_type": "code",
   "execution_count": null,
   "metadata": {},
   "outputs": [],
   "source": [
    "for gen in range(10):\n",
    "    start = time.time()\n",
    "    parents = archive.sample_archive(params[\"pop_size\"], strategy=params[\"sample_strategy\"])\n",
    "    print(\"Sampling took %f\" % (time.time() - start))\n",
    "\n",
    "    # Mutate the geneotypes\n",
    "    start = time.time()\n",
    "    random_key, subkey = jax.random.split(random_key)\n",
    "    keys = jax.random.split(subkey, len(parents))\n",
    "    mutate_gen = jax.vmap(toolbox.mutate)(keys, jnp.asarray(parents))\n",
    "    \n",
    "    # Create the offsprings\n",
    "    offspring = [creator.Individual([x]) for x in np.asarray(mutate_gen)]\n",
    "    for i in range(len(offspring)):\n",
    "        offspring[i] =  offspring[i][0]\n",
    "        offspring[i].fitness = creator.FitnessMax()\n",
    "        offspring[i].bd = parents[i].bd\n",
    "        offspring[i].id = parents[i].id\n",
    "    print(\"Mutating took %f\" % (time.time() - start))\n",
    "    \n",
    "    start = time.time()\n",
    "    fit, bd, random_key = toolbox.map_eval(jnp.array(offspring), random_key)\n",
    "    print(\"Evaluating took %f\" % (time.time() - start))\n",
    "    \n",
    "    start = time.time()\n",
    "    for ind, f, b in zip(offspring, fit, bd):\n",
    "        ind.fitness.values = f\n",
    "        ind.fit = f\n",
    "        ind.parent_bd = ind.bd\n",
    "        ind.bd = b\n",
    "        ind.parent_id = ind.id\n",
    "        ind.id = generate_uuid()\n",
    "        ind.am_parent = 0\n",
    "        ind.dist_parent = get_bd_dist_to_parent(ind)\n",
    "        ind.gen_created = gen\n",
    "\n",
    "    if(len(offspring)) < params[\"n_add\"]:\n",
    "        print(\"WARNING: Not enough parents sampled to get %d offspring; will complete with %d random individuals\" % (params[\"n_add\"], params[\"n_add\"]-len(offspring)))\n",
    "        extra_random_indivs, random_key = toolbox.population(random_key, params[\"n_add\"] - len(offspring))\n",
    "        extrat_fit, extra_bd, random_key = toolbox.map_eval(jnp.array(extra_random_indivs), random_key)\n",
    "    \n",
    "        for ind, f, b in zip(extra_random_indivs, extrat_fit, extra_bd):\n",
    "            ind.fitness.values = f\n",
    "            ind.fit = f\n",
    "            ind.parent_bd = None\n",
    "            ind.bd = b\n",
    "            ind.id = generate_uuid()\n",
    "            ind.parent_id = None\n",
    "            ind.am_parent = 0\n",
    "            ind.dist_parent = -1\n",
    "            ind.gen_created = gen\n",
    "        offspring += extra_random_indivs\n",
    "    \n",
    "    for ind in parents:\n",
    "        ind.am_parent=1\n",
    "    for ind in offspring:\n",
    "        ind.am_parent=0\n",
    "    print(\"Creating offspring took %f\" % (time.time() - start))\n",
    "    \n",
    "    start = time.time()\n",
    "    n_added = 0\n",
    "    for ind in offspring:\n",
    "        if(archive.try_add(ind)):\n",
    "            n_added += 1\n",
    "    print(\"Adding to archive took %f\" % (time.time() - start))\n",
    "    \n",
    "    # Rebuild novelty for whole archive\n",
    "    start = time.time()\n",
    "    archive.update_novelty()\n",
    "    print(\"Novelty update took %f seconds\" % (time.time() - start))"
   ]
  },
  {
   "cell_type": "code",
   "execution_count": null,
   "metadata": {},
   "outputs": [],
   "source": [
    "best = selBest(archive.get_content_as_list(), 1, fit_attr=\"fitness\")[0]\n",
    "print(best.fitness, best.bd)\n",
    "best = controller.array_to_dict(jnp.array(best))"
   ]
  },
  {
   "cell_type": "code",
   "execution_count": null,
   "metadata": {},
   "outputs": [],
   "source": [
    "random_key, subkey = jax.random.split(random_key)\n",
    "state = jax.jit(env.reset)(subkey)"
   ]
  },
  {
   "cell_type": "code",
   "execution_count": null,
   "metadata": {},
   "outputs": [],
   "source": [
    "jit_step = jax.jit(env.step)\n",
    "jit_inf = jax.jit(controller.predict)"
   ]
  },
  {
   "cell_type": "code",
   "execution_count": null,
   "metadata": {},
   "outputs": [],
   "source": [
    "rollout = []\n",
    "while not state.done:\n",
    "    rollout.append(state)\n",
    "    action = jit_inf(best, state.obs)\n",
    "    state = jit_step(state, action)\n"
   ]
  },
  {
   "cell_type": "code",
   "execution_count": null,
   "metadata": {},
   "outputs": [],
   "source": [
    "HTML(html.render(env.sys, [s.qp for s in rollout]))"
   ]
  },
  {
   "cell_type": "code",
   "execution_count": null,
   "metadata": {},
   "outputs": [],
   "source": [
    "from diversity_algorithms.analysis.population_analysis import *"
   ]
  },
  {
   "cell_type": "code",
   "execution_count": null,
   "metadata": {},
   "outputs": [],
   "source": [
    "all_bd = [ind.bd for ind in archive.get_content_as_list()]"
   ]
  },
  {
   "cell_type": "code",
   "execution_count": null,
   "metadata": {},
   "outputs": [],
   "source": [
    "len(all_bd)"
   ]
  },
  {
   "cell_type": "code",
   "execution_count": null,
   "metadata": {},
   "outputs": [],
   "source": [
    "np.sum([ind.fitness.values for ind in archive.get_content_as_list()])"
   ]
  }
 ],
 "metadata": {
  "kernelspec": {
   "display_name": "PAND",
   "language": "python",
   "name": "python3"
  },
  "language_info": {
   "codemirror_mode": {
    "name": "ipython",
    "version": 3
   },
   "file_extension": ".py",
   "mimetype": "text/x-python",
   "name": "python",
   "nbconvert_exporter": "python",
   "pygments_lexer": "ipython3",
   "version": "3.11.3"
  },
  "orig_nbformat": 4
 },
 "nbformat": 4,
 "nbformat_minor": 2
}
